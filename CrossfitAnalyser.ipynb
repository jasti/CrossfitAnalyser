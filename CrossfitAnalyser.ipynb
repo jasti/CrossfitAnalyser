{
 "metadata": {
  "name": "",
  "signature": "sha256:031d4f09d4428b6bbea15479ea61ffc68f20a563c263a7ec4aebd375631d052e"
 },
 "nbformat": 3,
 "nbformat_minor": 0,
 "worksheets": [
  {
   "cells": [
    {
     "cell_type": "code",
     "collapsed": false,
     "input": [
      "%matplotlib inline\n",
      "import csv\n",
      "import pandas as pd\n",
      "from datetime import datetime\n",
      "import calendar\n",
      "import numpy as np\n",
      "import matplotlib.pyplot as plt \n",
      "\n",
      "#Set pandas column width\n",
      "pd.options.display.max_colwidth =40"
     ],
     "language": "python",
     "metadata": {},
     "outputs": [],
     "prompt_number": 72
    },
    {
     "cell_type": "code",
     "collapsed": false,
     "input": [
      "##Import data from a tab seperated file\n",
      "#Define your columns\n",
      "cols =['Date','Workout']\n",
      "df = pd.read_csv('input/workouts.tsv', sep='\\t', converters={'Date': str})  \n",
      "#Drop invalid data. e.g. blank inputs\n",
      "df = df.dropna()\n",
      "print df.head(5)"
     ],
     "language": "python",
     "metadata": {},
     "outputs": [
      {
       "output_type": "stream",
       "stream": "stdout",
       "text": [
        "       Date                                  Workout\n",
        "0  20020131  Row 2000 meters Rest for 2000 meter ...\n",
        "1  20020131  For time: 50 Push-ups 50 Pull-ups 75...\n",
        "2  20020130  Row 2000 meters Rest for 2000 meter ...\n",
        "3  20020129  Complete as many rounds in 20 minute...\n",
        "4  20020128  Bike ten minutes, hard. Rest five mi...\n",
        "\n",
        "[5 rows x 2 columns]\n"
       ]
      }
     ],
     "prompt_number": 73
    },
    {
     "cell_type": "code",
     "collapsed": false,
     "input": [
      "df.to_csv('output/workouts_refine.csv')"
     ],
     "language": "python",
     "metadata": {},
     "outputs": [],
     "prompt_number": 74
    },
    {
     "cell_type": "code",
     "collapsed": false,
     "input": [
      "# Reimport the file from Refine\n",
      "cols =['Date','Workout','HeroWod']\n",
      "df = pd.read_csv('input/workouts_refine.tsv', sep='\\t', converters={'Date': str})  \n",
      "df = df.dropna()\n",
      "print df.head(5)"
     ],
     "language": "python",
     "metadata": {},
     "outputs": [
      {
       "output_type": "stream",
       "stream": "stdout",
       "text": [
        "       Date                                  Workout HeroWod\n",
        "0  20020131  row 2000 meters rest for 2000 meter ...   False\n",
        "1  20020131  for time: 50 push-ups 50 pull-ups 75...   False\n",
        "2  20020130  row 2000 meters rest for 2000 meter ...   False\n",
        "3  20020129  complete as many rounds in 20 minute...   False\n",
        "4  20020128  bike ten minutes, hard. rest five mi...   False\n",
        "\n",
        "[5 rows x 3 columns]\n"
       ]
      }
     ],
     "prompt_number": 75
    },
    {
     "cell_type": "code",
     "collapsed": false,
     "input": [
      "# Define a function that allows us the date column into Year, Month and Day\n",
      "def splitDate(date):\n",
      "    # print type(date)\n",
      "    strDate = str(date);\n",
      "    # print strDate\n",
      "    try:\n",
      "        mydate = datetime.strptime(strDate, '%Y%m%d')\n",
      "        # mydate = datetime.strptime(strDate,'%Y-%m-%d %H:%M:%S')\n",
      "        \n",
      "        return [str(mydate.year), calendar.month_name[mydate.month], str(mydate.day)]\n",
      "    except ValueError:\n",
      "        print \"Bad Date encountered : \" + strDate\n",
      "        return [np.NaN,np.NaN,np.NaN]\n",
      "\n",
      "#Invoke the previously defined function\n",
      "df['Year'], df['Month'], df['Day'] = zip(*df[\"Date\"].map(splitDate))"
     ],
     "language": "python",
     "metadata": {},
     "outputs": [],
     "prompt_number": 99
    },
    {
     "cell_type": "code",
     "collapsed": false,
     "input": [
      "print df.tail(5)"
     ],
     "language": "python",
     "metadata": {},
     "outputs": [
      {
       "output_type": "stream",
       "stream": "stdout",
       "text": [
        "          Date                                  Workout HeroWod  Year  \\\n",
        "4182  20131205                                 rest day   False  2013   \n",
        "4183  20131204  five rounds for time of: 10 kettlebe...   False  2013   \n",
        "4184  20131203      back squat 2-2-2-2-2-2-2-2-2-2 reps   False  2013   \n",
        "4185  20131202  five rounds for time of: 20 ghd sit-...   False  2013   \n",
        "4186  20131201                                 rest day   False  2013   \n",
        "\n",
        "         Month Day  \n",
        "4182  December   5  \n",
        "4183  December   4  \n",
        "4184  December   3  \n",
        "4185  December   2  \n",
        "4186  December   1  \n",
        "\n",
        "[5 rows x 6 columns]\n"
       ]
      }
     ],
     "prompt_number": 101
    },
    {
     "cell_type": "code",
     "collapsed": false,
     "input": [
      "#Workouts per year\n",
      "df_year_total=df.groupby(['Year']).size()\n",
      "print \"Total workouts per year : \"\n",
      "print df_year_total"
     ],
     "language": "python",
     "metadata": {},
     "outputs": [
      {
       "output_type": "stream",
       "stream": "stdout",
       "text": [
        "Total workouts per year : \n",
        "Year\n",
        "2002    352\n",
        "2005    364\n",
        "2007    362\n",
        "2008    366\n",
        "2009    364\n",
        "2010    365\n",
        "2011    365\n",
        "2012    366\n",
        "2013    364\n",
        "dtype: int64\n"
       ]
      }
     ],
     "prompt_number": 103
    },
    {
     "cell_type": "code",
     "collapsed": false,
     "input": [
      "# Plot a histogram for sanity checking the data\n",
      "plt.figure();\n",
      "df.groupby(['Year']).size().plot(kind='bar');"
     ],
     "language": "python",
     "metadata": {},
     "outputs": [
      {
       "metadata": {},
       "output_type": "display_data",
       "png": "[encoded data removed]",
       "text": [
        "<matplotlib.figure.Figure at 0x108bcdd10>"
       ]
      }
     ],
     "prompt_number": 79
    },
    {
     "cell_type": "code",
     "collapsed": false,
     "input": [
      "# Apply filter to get just the years that has good data\n",
      "yearRange = [\"2002\",\"2005\",\"2007\",\"2008\",\"2009\",\"2010\",\"2011\",\"2012\",\"2013\"]\n",
      "df = df[df['Year'].isin( yearRange)]"
     ],
     "language": "python",
     "metadata": {},
     "outputs": [],
     "prompt_number": 104
    },
    {
     "cell_type": "code",
     "collapsed": false,
     "input": [
      "# Get the rows that is a Hero WOD or a Benchmark WOD\n",
      "dfHero = df[df['HeroWod'].astype(str) == \"True\"]\n",
      "# Reset the internal data frame index\n",
      "dfHero.reset_index(inplace=True)\n",
      "# Group By year\n",
      "df_hero_year=dfHero.groupby(['Year']).size()\n",
      "# Hero/ Benchmark workout distribution\n",
      "plt.figure();\n",
      "df_hero_year.plot(kind='bar');\n"
     ],
     "language": "python",
     "metadata": {},
     "outputs": [
      {
       "output_type": "stream",
       "stream": "stdout",
       "text": [
        "Hero WODS per year : \n"
       ]
      },
      {
       "metadata": {},
       "output_type": "display_data",
       "png": "[encoded data removed]",
       "text": [
        "<matplotlib.figure.Figure at 0x109e01bd0>"
       ]
      }
     ],
     "prompt_number": 95
    },
    {
     "cell_type": "code",
     "collapsed": false,
     "input": [
      "# Takes a search string and data frame. \n",
      "# Returns a series of the term occurences over year\n",
      "def searchForTerm(searchString, df):\n",
      "    # Filter that ignores case\n",
      "    df = df[df['Workout'].str.contains(searchString, case = 'false')]\n",
      "    df.reset_index(inplace=True)\n",
      "    #Group by the year\n",
      "    df_grouped=df.groupby(['Year']).size()\n",
      "    return df_grouped"
     ],
     "language": "python",
     "metadata": {},
     "outputs": [],
     "prompt_number": 105
    },
    {
     "cell_type": "code",
     "collapsed": false,
     "input": [
      "df_restDays = searchForTerm(\"rest day\", df)\n",
      "# \"Rest Days\" distribution\n",
      "plt.figure();\n",
      "ax= df_restDays.plot(kind='bar');\n",
      "#Setting the Y axis label\n",
      "ax.set_ylabel(\"No of rest days\")"
     ],
     "language": "python",
     "metadata": {},
     "outputs": [
      {
       "metadata": {},
       "output_type": "pyout",
       "prompt_number": 114,
       "text": [
        "<matplotlib.text.Text at 0x108ce4890>"
       ]
      },
      {
       "metadata": {},
       "output_type": "display_data",
       "png": "[encoded data removed]",
       "text": [
        "<matplotlib.figure.Figure at 0x105779e90>"
       ]
      }
     ],
     "prompt_number": 114
    },
    {
     "cell_type": "code",
     "collapsed": false,
     "input": [
      "df_deadlift = searchForTerm(\"deadlift\", df)\n",
      "print df_deadlift\n",
      "# \"For time\" workout day distribution\n",
      "plt.figure();\n",
      "df_deadlift.plot(kind='bar');"
     ],
     "language": "python",
     "metadata": {},
     "outputs": [
      {
       "output_type": "stream",
       "stream": "stdout",
       "text": [
        "Year\n",
        "2002    33\n",
        "2005    37\n",
        "2007    42\n",
        "2008    44\n",
        "2009    41\n",
        "2010    48\n",
        "2011    44\n",
        "2012    37\n",
        "2013    43\n",
        "dtype: int64\n"
       ]
      },
      {
       "metadata": {},
       "output_type": "display_data",
       "png": "[encoded data removed]",
       "text": [
        "<matplotlib.figure.Figure at 0x108c6b190>"
       ]
      }
     ],
     "prompt_number": 109
    },
    {
     "cell_type": "code",
     "collapsed": false,
     "input": [
      "# Find series that have running over the years\n",
      "df_run = searchForTerm(\"run\", df)\n",
      "# Find series that have rowing over the years\n",
      "df_row = searchForTerm(\"row\", df)\n",
      "# Find series that have rowing over the years\n",
      "df_bike = searchForTerm(\"bike\", df)\n",
      "# Find series that have rowing over the years\n",
      "df_swim = searchForTerm(\"swim\", df)\n",
      "\n"
     ],
     "language": "python",
     "metadata": {},
     "outputs": [
      {
       "metadata": {},
       "output_type": "pyout",
       "prompt_number": 115,
       "text": [
        "<matplotlib.text.Text at 0x109222150>"
       ]
      },
      {
       "metadata": {},
       "output_type": "display_data",
       "text": [
        "<matplotlib.figure.Figure at 0x108d04150>"
       ]
      },
      {
       "metadata": {},
       "output_type": "display_data",
       "png": "[encoded data removed]",
       "text": [
        "<matplotlib.figure.Figure at 0x108ceec50>"
       ]
      }
     ],
     "prompt_number": 115
    },
    {
     "cell_type": "code",
     "collapsed": false,
     "input": [
      "# Concatenate all these terms into one dataframe\n",
      "df_cardio = pd.concat([df_run, df_row,df_bike,df_swim], axis=1)\n",
      "#Name the columns\n",
      "df_cardio.columns = ['Running', 'Rowing','Biking','Swimming']\n",
      "\n",
      "plt.figure();\n",
      "#Create a stacked bar chart\n",
      "ax =df_cardio.plot(kind='bar',stacked = 'true');\n",
      "#Label the Y axis\n",
      "ax.set_ylabel(\"Workout Occurence\")"
     ],
     "language": "python",
     "metadata": {},
     "outputs": [
      {
       "metadata": {},
       "output_type": "pyout",
       "prompt_number": 116,
       "text": [
        "<matplotlib.text.Text at 0x1092e5fd0>"
       ]
      },
      {
       "metadata": {},
       "output_type": "display_data",
       "text": [
        "<matplotlib.figure.Figure at 0x1091b4ed0>"
       ]
      },
      {
       "metadata": {},
       "output_type": "display_data",
       "png": "[encoded data removed]",
       "text": [
        "<matplotlib.figure.Figure at 0x109e01bd0>"
       ]
      }
     ],
     "prompt_number": 116
    },
    {
     "cell_type": "code",
     "collapsed": false,
     "input": [],
     "language": "python",
     "metadata": {},
     "outputs": []
    },
    {
     "cell_type": "code",
     "collapsed": false,
     "input": [],
     "language": "python",
     "metadata": {},
     "outputs": [],
     "prompt_number": 94
    },
    {
     "cell_type": "code",
     "collapsed": false,
     "input": [],
     "language": "python",
     "metadata": {},
     "outputs": [],
     "prompt_number": 94
    },
    {
     "cell_type": "code",
     "collapsed": false,
     "input": [],
     "language": "python",
     "metadata": {},
     "outputs": []
    }
   ],
   "metadata": {}
  }
 ]
}